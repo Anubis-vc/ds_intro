{
 "cells": [
  {
   "cell_type": "code",
   "execution_count": 1,
   "metadata": {},
   "outputs": [],
   "source": [
    "# Project 1\n",
    "import requests\n",
    "from bs4 import BeautifulSoup\n",
    "import pandas as pd"
   ]
  },
  {
   "cell_type": "code",
   "execution_count": 2,
   "metadata": {},
   "outputs": [],
   "source": [
    "# This frame uses get to obtain the HTML file and printed it so we can see what we were working with\n",
    "res = requests.get(\"https://www.spaceweatherlive.com/en/solar-activity/top-50-solar-flares.html\")\n",
    "soup = BeautifulSoup(res.content, \"html.parser\")\n",
    "# print (soup.prettify)"
   ]
  },
  {
   "cell_type": "code",
   "execution_count": 3,
   "metadata": {},
   "outputs": [
    {
     "name": "stdout",
     "output_type": "stream",
     "text": [
      "403\n"
     ]
    },
    {
     "data": {
      "text/html": [
       "<div>\n",
       "<style scoped>\n",
       "    .dataframe tbody tr th:only-of-type {\n",
       "        vertical-align: middle;\n",
       "    }\n",
       "\n",
       "    .dataframe tbody tr th {\n",
       "        vertical-align: top;\n",
       "    }\n",
       "\n",
       "    .dataframe thead th {\n",
       "        text-align: right;\n",
       "    }\n",
       "</style>\n",
       "<table border=\"1\" class=\"dataframe\">\n",
       "  <thead>\n",
       "    <tr style=\"text-align: right;\">\n",
       "      <th></th>\n",
       "      <th>Reference ID</th>\n",
       "      <th>IP Address</th>\n",
       "      <th>Date and Time</th>\n",
       "    </tr>\n",
       "  </thead>\n",
       "  <tbody>\n",
       "    <tr>\n",
       "      <th>0</th>\n",
       "      <td>fa47ac0d1c9b7fcfa402060100d2f18b</td>\n",
       "      <td>24.0.251.35</td>\n",
       "      <td>02/19/2023 05:27 PM UTC</td>\n",
       "    </tr>\n",
       "  </tbody>\n",
       "</table>\n",
       "</div>"
      ],
      "text/plain": [
       "                       Reference ID   IP Address            Date and Time\n",
       "0  fa47ac0d1c9b7fcfa402060100d2f18b  24.0.251.35  02/19/2023 05:27 PM UTC"
      ]
     },
     "execution_count": 3,
     "metadata": {},
     "output_type": "execute_result"
    }
   ],
   "source": [
    "# This frame finds the table and loads it into pandas for formatting\n",
    "\n",
    "# Find the table \n",
    "table = soup.find('table')\n",
    "\n",
    "# Load it into pandas making sure all formatted as string\n",
    "data = pd.read_html(str(table))\n",
    "data = data[0]\n",
    "data.rename(columns={'Unnamed: 0': 'Rank', 'Unnamed: 1': 'X_class', 'Unnamed: 2': 'Date', 'Region': 'Region', \n",
    "                       'Start': 'Start', 'Maximum': 'Max', 'End':'End'}, inplace=True)\n",
    "# Printed status code bc Kernel was being dumb with requests. Sometimes throws 403 and have to wait it out\n",
    "print(res.status_code)\n",
    "data\n",
    "# End of part1"
   ]
  },
  {
   "cell_type": "code",
   "execution_count": 4,
   "metadata": {},
   "outputs": [
    {
     "ename": "KeyError",
     "evalue": "\"['Unnamed: 7'] not found in axis\"",
     "output_type": "error",
     "traceback": [
      "\u001b[0;31m---------------------------------------------------------------------------\u001b[0m",
      "\u001b[0;31mKeyError\u001b[0m                                  Traceback (most recent call last)",
      "\u001b[0;32m/var/folders/vq/1vm3d1qd40dc31fh9jl7k1fc0000gn/T/ipykernel_34216/4162164839.py\u001b[0m in \u001b[0;36m<module>\u001b[0;34m\u001b[0m\n\u001b[1;32m      1\u001b[0m \u001b[0;31m# Drop the extra movie column\u001b[0m\u001b[0;34m\u001b[0m\u001b[0;34m\u001b[0m\u001b[0m\n\u001b[0;32m----> 2\u001b[0;31m \u001b[0mdata\u001b[0m \u001b[0;34m=\u001b[0m \u001b[0mdata\u001b[0m\u001b[0;34m.\u001b[0m\u001b[0mdrop\u001b[0m\u001b[0;34m(\u001b[0m\u001b[0mcolumns\u001b[0m \u001b[0;34m=\u001b[0m \u001b[0;34m'Unnamed: 7'\u001b[0m\u001b[0;34m)\u001b[0m\u001b[0;34m\u001b[0m\u001b[0;34m\u001b[0m\u001b[0m\n\u001b[0m\u001b[1;32m      3\u001b[0m \u001b[0;34m\u001b[0m\u001b[0m\n\u001b[1;32m      4\u001b[0m \u001b[0;31m# To format into datetime, combine the date along with each time column\u001b[0m\u001b[0;34m\u001b[0m\u001b[0;34m\u001b[0m\u001b[0m\n\u001b[1;32m      5\u001b[0m \u001b[0mdata\u001b[0m\u001b[0;34m[\u001b[0m\u001b[0;34m'Start_DT'\u001b[0m\u001b[0;34m]\u001b[0m \u001b[0;34m=\u001b[0m \u001b[0mpd\u001b[0m\u001b[0;34m.\u001b[0m\u001b[0mto_datetime\u001b[0m\u001b[0;34m(\u001b[0m\u001b[0mdata\u001b[0m\u001b[0;34m[\u001b[0m\u001b[0;34m'Date'\u001b[0m\u001b[0;34m]\u001b[0m \u001b[0;34m+\u001b[0m \u001b[0;34m' '\u001b[0m \u001b[0;34m+\u001b[0m \u001b[0mdata\u001b[0m\u001b[0;34m[\u001b[0m\u001b[0;34m'Start'\u001b[0m\u001b[0;34m]\u001b[0m\u001b[0;34m)\u001b[0m\u001b[0;34m\u001b[0m\u001b[0;34m\u001b[0m\u001b[0m\n",
      "\u001b[0;32m~/opt/anaconda3/lib/python3.9/site-packages/pandas/util/_decorators.py\u001b[0m in \u001b[0;36mwrapper\u001b[0;34m(*args, **kwargs)\u001b[0m\n\u001b[1;32m    309\u001b[0m                     \u001b[0mstacklevel\u001b[0m\u001b[0;34m=\u001b[0m\u001b[0mstacklevel\u001b[0m\u001b[0;34m,\u001b[0m\u001b[0;34m\u001b[0m\u001b[0;34m\u001b[0m\u001b[0m\n\u001b[1;32m    310\u001b[0m                 )\n\u001b[0;32m--> 311\u001b[0;31m             \u001b[0;32mreturn\u001b[0m \u001b[0mfunc\u001b[0m\u001b[0;34m(\u001b[0m\u001b[0;34m*\u001b[0m\u001b[0margs\u001b[0m\u001b[0;34m,\u001b[0m \u001b[0;34m**\u001b[0m\u001b[0mkwargs\u001b[0m\u001b[0;34m)\u001b[0m\u001b[0;34m\u001b[0m\u001b[0;34m\u001b[0m\u001b[0m\n\u001b[0m\u001b[1;32m    312\u001b[0m \u001b[0;34m\u001b[0m\u001b[0m\n\u001b[1;32m    313\u001b[0m         \u001b[0;32mreturn\u001b[0m \u001b[0mwrapper\u001b[0m\u001b[0;34m\u001b[0m\u001b[0;34m\u001b[0m\u001b[0m\n",
      "\u001b[0;32m~/opt/anaconda3/lib/python3.9/site-packages/pandas/core/frame.py\u001b[0m in \u001b[0;36mdrop\u001b[0;34m(self, labels, axis, index, columns, level, inplace, errors)\u001b[0m\n\u001b[1;32m   4955\u001b[0m                 \u001b[0mweight\u001b[0m  \u001b[0;36m1.0\u001b[0m     \u001b[0;36m0.8\u001b[0m\u001b[0;34m\u001b[0m\u001b[0;34m\u001b[0m\u001b[0m\n\u001b[1;32m   4956\u001b[0m         \"\"\"\n\u001b[0;32m-> 4957\u001b[0;31m         return super().drop(\n\u001b[0m\u001b[1;32m   4958\u001b[0m             \u001b[0mlabels\u001b[0m\u001b[0;34m=\u001b[0m\u001b[0mlabels\u001b[0m\u001b[0;34m,\u001b[0m\u001b[0;34m\u001b[0m\u001b[0;34m\u001b[0m\u001b[0m\n\u001b[1;32m   4959\u001b[0m             \u001b[0maxis\u001b[0m\u001b[0;34m=\u001b[0m\u001b[0maxis\u001b[0m\u001b[0;34m,\u001b[0m\u001b[0;34m\u001b[0m\u001b[0;34m\u001b[0m\u001b[0m\n",
      "\u001b[0;32m~/opt/anaconda3/lib/python3.9/site-packages/pandas/core/generic.py\u001b[0m in \u001b[0;36mdrop\u001b[0;34m(self, labels, axis, index, columns, level, inplace, errors)\u001b[0m\n\u001b[1;32m   4265\u001b[0m         \u001b[0;32mfor\u001b[0m \u001b[0maxis\u001b[0m\u001b[0;34m,\u001b[0m \u001b[0mlabels\u001b[0m \u001b[0;32min\u001b[0m \u001b[0maxes\u001b[0m\u001b[0;34m.\u001b[0m\u001b[0mitems\u001b[0m\u001b[0;34m(\u001b[0m\u001b[0;34m)\u001b[0m\u001b[0;34m:\u001b[0m\u001b[0;34m\u001b[0m\u001b[0;34m\u001b[0m\u001b[0m\n\u001b[1;32m   4266\u001b[0m             \u001b[0;32mif\u001b[0m \u001b[0mlabels\u001b[0m \u001b[0;32mis\u001b[0m \u001b[0;32mnot\u001b[0m \u001b[0;32mNone\u001b[0m\u001b[0;34m:\u001b[0m\u001b[0;34m\u001b[0m\u001b[0;34m\u001b[0m\u001b[0m\n\u001b[0;32m-> 4267\u001b[0;31m                 \u001b[0mobj\u001b[0m \u001b[0;34m=\u001b[0m \u001b[0mobj\u001b[0m\u001b[0;34m.\u001b[0m\u001b[0m_drop_axis\u001b[0m\u001b[0;34m(\u001b[0m\u001b[0mlabels\u001b[0m\u001b[0;34m,\u001b[0m \u001b[0maxis\u001b[0m\u001b[0;34m,\u001b[0m \u001b[0mlevel\u001b[0m\u001b[0;34m=\u001b[0m\u001b[0mlevel\u001b[0m\u001b[0;34m,\u001b[0m \u001b[0merrors\u001b[0m\u001b[0;34m=\u001b[0m\u001b[0merrors\u001b[0m\u001b[0;34m)\u001b[0m\u001b[0;34m\u001b[0m\u001b[0;34m\u001b[0m\u001b[0m\n\u001b[0m\u001b[1;32m   4268\u001b[0m \u001b[0;34m\u001b[0m\u001b[0m\n\u001b[1;32m   4269\u001b[0m         \u001b[0;32mif\u001b[0m \u001b[0minplace\u001b[0m\u001b[0;34m:\u001b[0m\u001b[0;34m\u001b[0m\u001b[0;34m\u001b[0m\u001b[0m\n",
      "\u001b[0;32m~/opt/anaconda3/lib/python3.9/site-packages/pandas/core/generic.py\u001b[0m in \u001b[0;36m_drop_axis\u001b[0;34m(self, labels, axis, level, errors, consolidate, only_slice)\u001b[0m\n\u001b[1;32m   4309\u001b[0m                 \u001b[0mnew_axis\u001b[0m \u001b[0;34m=\u001b[0m \u001b[0maxis\u001b[0m\u001b[0;34m.\u001b[0m\u001b[0mdrop\u001b[0m\u001b[0;34m(\u001b[0m\u001b[0mlabels\u001b[0m\u001b[0;34m,\u001b[0m \u001b[0mlevel\u001b[0m\u001b[0;34m=\u001b[0m\u001b[0mlevel\u001b[0m\u001b[0;34m,\u001b[0m \u001b[0merrors\u001b[0m\u001b[0;34m=\u001b[0m\u001b[0merrors\u001b[0m\u001b[0;34m)\u001b[0m\u001b[0;34m\u001b[0m\u001b[0;34m\u001b[0m\u001b[0m\n\u001b[1;32m   4310\u001b[0m             \u001b[0;32melse\u001b[0m\u001b[0;34m:\u001b[0m\u001b[0;34m\u001b[0m\u001b[0;34m\u001b[0m\u001b[0m\n\u001b[0;32m-> 4311\u001b[0;31m                 \u001b[0mnew_axis\u001b[0m \u001b[0;34m=\u001b[0m \u001b[0maxis\u001b[0m\u001b[0;34m.\u001b[0m\u001b[0mdrop\u001b[0m\u001b[0;34m(\u001b[0m\u001b[0mlabels\u001b[0m\u001b[0;34m,\u001b[0m \u001b[0merrors\u001b[0m\u001b[0;34m=\u001b[0m\u001b[0merrors\u001b[0m\u001b[0;34m)\u001b[0m\u001b[0;34m\u001b[0m\u001b[0;34m\u001b[0m\u001b[0m\n\u001b[0m\u001b[1;32m   4312\u001b[0m             \u001b[0mindexer\u001b[0m \u001b[0;34m=\u001b[0m \u001b[0maxis\u001b[0m\u001b[0;34m.\u001b[0m\u001b[0mget_indexer\u001b[0m\u001b[0;34m(\u001b[0m\u001b[0mnew_axis\u001b[0m\u001b[0;34m)\u001b[0m\u001b[0;34m\u001b[0m\u001b[0;34m\u001b[0m\u001b[0m\n\u001b[1;32m   4313\u001b[0m \u001b[0;34m\u001b[0m\u001b[0m\n",
      "\u001b[0;32m~/opt/anaconda3/lib/python3.9/site-packages/pandas/core/indexes/base.py\u001b[0m in \u001b[0;36mdrop\u001b[0;34m(self, labels, errors)\u001b[0m\n\u001b[1;32m   6659\u001b[0m         \u001b[0;32mif\u001b[0m \u001b[0mmask\u001b[0m\u001b[0;34m.\u001b[0m\u001b[0many\u001b[0m\u001b[0;34m(\u001b[0m\u001b[0;34m)\u001b[0m\u001b[0;34m:\u001b[0m\u001b[0;34m\u001b[0m\u001b[0;34m\u001b[0m\u001b[0m\n\u001b[1;32m   6660\u001b[0m             \u001b[0;32mif\u001b[0m \u001b[0merrors\u001b[0m \u001b[0;34m!=\u001b[0m \u001b[0;34m\"ignore\"\u001b[0m\u001b[0;34m:\u001b[0m\u001b[0;34m\u001b[0m\u001b[0;34m\u001b[0m\u001b[0m\n\u001b[0;32m-> 6661\u001b[0;31m                 \u001b[0;32mraise\u001b[0m \u001b[0mKeyError\u001b[0m\u001b[0;34m(\u001b[0m\u001b[0;34mf\"{list(labels[mask])} not found in axis\"\u001b[0m\u001b[0;34m)\u001b[0m\u001b[0;34m\u001b[0m\u001b[0;34m\u001b[0m\u001b[0m\n\u001b[0m\u001b[1;32m   6662\u001b[0m             \u001b[0mindexer\u001b[0m \u001b[0;34m=\u001b[0m \u001b[0mindexer\u001b[0m\u001b[0;34m[\u001b[0m\u001b[0;34m~\u001b[0m\u001b[0mmask\u001b[0m\u001b[0;34m]\u001b[0m\u001b[0;34m\u001b[0m\u001b[0;34m\u001b[0m\u001b[0m\n\u001b[1;32m   6663\u001b[0m         \u001b[0;32mreturn\u001b[0m \u001b[0mself\u001b[0m\u001b[0;34m.\u001b[0m\u001b[0mdelete\u001b[0m\u001b[0;34m(\u001b[0m\u001b[0mindexer\u001b[0m\u001b[0;34m)\u001b[0m\u001b[0;34m\u001b[0m\u001b[0;34m\u001b[0m\u001b[0m\n",
      "\u001b[0;31mKeyError\u001b[0m: \"['Unnamed: 7'] not found in axis\""
     ]
    }
   ],
   "source": [
    "# Drop the extra movie column\n",
    "data = data.drop(columns = 'Unnamed: 7')\n",
    "\n",
    "# To format into datetime, combine the date along with each time column \n",
    "data['Start_DT'] = pd.to_datetime(data['Date'] + ' ' + data['Start'])\n",
    "data['Max_DT'] = pd.to_datetime(data['Date'] + ' ' + data['Max'])\n",
    "data['End_DT'] = pd.to_datetime(data['Date'] + ' ' + data['End'])"
   ]
  },
  {
   "cell_type": "code",
   "execution_count": null,
   "metadata": {},
   "outputs": [],
   "source": [
    "# drop the uneccessary non-datetime columns\n",
    "data = data.drop(columns=['Date', 'Start', 'Max', 'End'])\n",
    "\n",
    "# Reorganized columns to match project description output \n",
    "data = data[['Rank', 'X_class', 'Start_DT', 'Max_DT', 'End_DT', 'Region']]\n",
    "# Replace all missing data with NaN\n",
    "data = data.replace('-', 'NaN')\n",
    "data\n",
    "# End of part 2"
   ]
  },
  {
   "cell_type": "code",
   "execution_count": null,
   "metadata": {},
   "outputs": [],
   "source": [
    "# Start of part 3. Use the same process at part1 to start\n",
    "res = requests.get(\"https://cdaw.gsfc.nasa.gov/CME_list/radio/waves_type2.html\")\n",
    "soup = BeautifulSoup(res.content, \"html.parser\")\n",
    "# print (soup.prettify)"
   ]
  },
  {
   "cell_type": "code",
   "execution_count": null,
   "metadata": {},
   "outputs": [],
   "source": [
    "# This link does NOT have a marked table. Must extract as text instead\n",
    "nasa_tab = soup.find('pre')\n",
    "txt = nasa_tab.get_text()\n",
    "# txt"
   ]
  },
  {
   "cell_type": "code",
   "execution_count": null,
   "metadata": {},
   "outputs": [],
   "source": [
    "# Since each row of data appears on a new line, split this string by line\n",
    "rows = txt.split('\\n')\n",
    "\n",
    "# Now remove the unnecessary beginning and ending lines\n",
    "for i in range(12):\n",
    "    rows.pop(0);\n",
    "for i in range(2):\n",
    "    rows.pop(len(rows) - 1)\n",
    "\n",
    "# Create a table with the proper columns \n",
    "nasa_data = pd.DataFrame(columns=['Start_Date', 'Start_Time', 'End_Date', 'End_Time', 'Start_Freq', \n",
    "'End_Freq', 'Flare_Loc', 'Flare_Region','Flare_Class', 'CME_Date', \n",
    "'CME_Time', 'CME_Angle', 'CME_Width', 'CME_Speed', 'Plot'], index = range(0,len(rows)))\n",
    "\n",
    "# Now load each line into the newly created dataframe\n",
    "row_index = 0\n",
    "for temp in rows:\n",
    "    row = temp.split(' ')\n",
    "    while '' in row:\n",
    "        row.remove('')\n",
    "    col_index = 0\n",
    "    while col_index < 15:\n",
    "        nasa_data.iat[row_index, col_index] = row[col_index]\n",
    "        col_index += 1\n",
    "    row_index += 1\n",
    "nasa_data = nasa_data.drop(columns = 'Plot')\n",
    "nasa_data\n",
    "# End of part 3"
   ]
  },
  {
   "cell_type": "code",
   "execution_count": null,
   "metadata": {},
   "outputs": [],
   "source": [
    "# Start by recoding the dashes as NaN\n",
    "nasa_data = nasa_data.replace('----', 'NaN')\n",
    "nasa_data = nasa_data.replace('-----', 'NaN')\n",
    "nasa_data = nasa_data.replace('????', 'NaN')\n",
    "\n",
    "# Create new halo column and fill it with booleans checked against CME angles\n",
    "nasa_data['Halo'] = nasa_data['CME_Angle'].map(lambda x: x == 'Halo')\n",
    "\n",
    "# Replace Halos with NA in CME angle column\n",
    "nasa_data = nasa_data.replace('Halo', \"NA\")\n",
    "\n",
    "# Removing the > from the width columns and instead adding a col that determines lower bound\n",
    "nasa_data['Lower_Bound'] = nasa_data['CME_Width'].map(lambda x: str(x).__contains__('>'))\n",
    "nasa_data['CME_Width'] = nasa_data['CME_Width'].map(lambda x: x if str(x)[0] != '>' else str(x)[1:])\n",
    "\n",
    "# Adjust rows to allow datetime formatting\n",
    "nasa_data['Start_DT'] = pd.to_datetime(nasa_data['Start_Date'] + ' ' + nasa_data['Start_Time'])\n",
    "# Prepend a year to the end dates \n",
    "for i in range(len(nasa_data.index)):\n",
    "    temp = nasa_data.values[i][0].split('/')\n",
    "    year = str(temp[0]) + '/'\n",
    "    nasa_data.iat[i, 2] = year + nasa_data.iat[i, 2]\n",
    "nasa_data\n",
    "\n",
    "# Set the CME and End columns to datetime as well\n",
    "nasa_data['End_Time'] = nasa_data['End_Time'].replace('24:00', '0:00')\n",
    "nasa_data['End_DT'] = pd.to_datetime(nasa_data['End_Date'] + ' ' + nasa_data['End_Time'])\n",
    "nasa_data\n",
    "# for i in range(len(nasa_data.index)):\n",
    "    # if nasa_data.iat[i,9] != 'NaN' and nasa_data.iat[i,10] != 'NaN':\n",
    "       #nasa_data.iat[i, 19] = pd.to_datetime(nasa_data.iat[i,9] + ' ' + nasa_data.iat[i,10])"
   ]
  },
  {
   "cell_type": "code",
   "execution_count": null,
   "metadata": {},
   "outputs": [],
   "source": [
    "# Isolate rows with max intensity flares (only 50. Also technically already sorted at this point)\n",
    "data = data.loc[data['X_class'].str.contains('X')]\n",
    "\n",
    "# Remove X from classifications and sort as float\n",
    "data['X_class'] = data['X_class'].str.lstrip('X')\n",
    "data['X_class'] = data['X_class'].str.rstrip('+')\n",
    "data['X_class'] = data.X_class.astype(float)\n",
    "data = data.head(50).sort_values('X_class', ascending= False)\n",
    "data"
   ]
  }
 ],
 "metadata": {
  "kernelspec": {
   "display_name": "Python 3 (ipykernel)",
   "language": "python",
   "name": "python3"
  },
  "language_info": {
   "codemirror_mode": {
    "name": "ipython",
    "version": 3
   },
   "file_extension": ".py",
   "mimetype": "text/x-python",
   "name": "python",
   "nbconvert_exporter": "python",
   "pygments_lexer": "ipython3",
   "version": "3.9.13"
  },
  "vscode": {
   "interpreter": {
    "hash": "0a7cc9519612de3adf7d0b0b895015cb252dc9c52e2af22739511a2009601fdc"
   }
  }
 },
 "nbformat": 4,
 "nbformat_minor": 2
}
